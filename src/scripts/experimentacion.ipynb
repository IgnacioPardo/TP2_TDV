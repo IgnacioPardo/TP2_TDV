{
 "cells": [
  {
   "cell_type": "code",
   "execution_count": 3,
   "metadata": {},
   "outputs": [],
   "source": [
    "import matplotlib.pyplot as plt\n",
    "import numpy as np\n",
    "import pandas as pd"
   ]
  },
  {
   "attachments": {},
   "cell_type": "markdown",
   "metadata": {},
   "source": [
    "## DATAFRAMES POR INSTANCIA"
   ]
  },
  {
   "cell_type": "code",
   "execution_count": 4,
   "metadata": {},
   "outputs": [],
   "source": [
    "# Leer los datos del archivo csv en el archivo de la carpeta output y guardarlos en un dataframe\n",
    "df = pd.read_csv('../output/results.csv')\n",
    "\n",
    "# Separo las instancias\n",
    "a_instance = df.iloc[:6]\n",
    "\n",
    "b_instance = df.iloc[6:12]\n",
    "\n",
    "e_instance = df.iloc[12:27]\n",
    "\n",
    "real_instance = df.iloc[-1]"
   ]
  },
  {
   "attachments": {},
   "cell_type": "markdown",
   "metadata": {},
   "source": [
    "## INSTANCIAS POR COSTO"
   ]
  },
  {
   "cell_type": "code",
   "execution_count": 9,
   "metadata": {},
   "outputs": [],
   "source": [
    "# COSTO DE CADA INSTANCIA\n",
    "a_instance_cost = a_instance.iloc[:, 1::2]\n",
    "a_instance_cost.insert(1, 'Vendedores', a_instance.iloc[:, 2])\n",
    "\n",
    "b_instance_cost = b_instance.iloc[:, 1::2]\n",
    "b_instance_cost.insert(1, 'Vendedores', b_instance.iloc[:, 2])\n",
    "\n",
    "e_instance_cost = e_instance.iloc[:, 1::2]\n",
    "e_instance_cost.insert(1, 'Vendedores', e_instance.iloc[:, 2])"
   ]
  },
  {
   "attachments": {},
   "cell_type": "markdown",
   "metadata": {},
   "source": [
    "## INSTANCIAS POR TIEMPO"
   ]
  },
  {
   "cell_type": "code",
   "execution_count": null,
   "metadata": {},
   "outputs": [],
   "source": [
    "# TIEMPO DE CADA INSTANCIA\n",
    "a_instance_time = a_instance.iloc[:, 0::2]\n",
    "\n",
    "b_instance_time = b_instance.iloc[:, 0::2]\n",
    "\n",
    "e_instance_time = e_instance.iloc[:, 0::2]"
   ]
  },
  {
   "attachments": {},
   "cell_type": "markdown",
   "metadata": {},
   "source": [
    "## GRAFICOS"
   ]
  },
  {
   "attachments": {},
   "cell_type": "markdown",
   "metadata": {},
   "source": [
    "### 1. COSTOS"
   ]
  },
  {
   "cell_type": "code",
   "execution_count": null,
   "metadata": {},
   "outputs": [],
   "source": [
    "# GRAFICO DE BARRAS DE LOS COSTOS DE CADA ALGORITMO DE CADA INSTANCIA\n",
    "a_instance_cost.iloc[:, 1:].plot(kind='bar', x='Vendedores', title='Costo de las instancias A', xlabel='Vendedores', ylabel='Costo', rot=0)\n",
    "b_instance_cost.iloc[:, 1:].plot(kind='bar', x='Vendedores', title='Costo de las instancias B', xlabel='Vendedores', ylabel='Costo', rot=0)\n",
    "e_instance_cost.iloc[:, 1:].plot(kind='bar', x='Vendedores', title='Costo de las instancias E', xlabel='Vendedores', ylabel='Costo', rot=0)"
   ]
  },
  {
   "attachments": {},
   "cell_type": "markdown",
   "metadata": {},
   "source": [
    "### 2. TIEMPOS"
   ]
  },
  {
   "cell_type": "code",
   "execution_count": null,
   "metadata": {},
   "outputs": [],
   "source": [
    "# # GRAFICO DE BARRAS DE LOS TIEMPOS DE CADA ALGORITMO DE CADA INSTANCIA\n",
    "a_instance_time.iloc[:, 1:].plot(kind='bar', x='Vendedores', title='Tiempo de las instancias A', xlabel='Vendedores', ylabel='Tiempo (ms)', rot=0)\n",
    "b_instance_time.iloc[:, 1:].plot(kind='bar', x='Vendedores', title='Tiempo de las instancias B', xlabel='Vendedores', ylabel='Tiempo (ms)', rot=0)\n",
    "e_instance_time.iloc[:, 1:].plot(kind='bar', x='Vendedores', title='Tiempo de las instancias E', xlabel='Vendedores', ylabel='Tiempo (ms)', rot=0)"
   ]
  },
  {
   "attachments": {},
   "cell_type": "markdown",
   "metadata": {},
   "source": [
    "### 3. INSTANCIA REAL"
   ]
  },
  {
   "attachments": {},
   "cell_type": "markdown",
   "metadata": {},
   "source": [
    "* COSTO"
   ]
  },
  {
   "cell_type": "code",
   "execution_count": null,
   "metadata": {},
   "outputs": [],
   "source": [
    "# Grafico de barras de los costos de los algoritmos\n",
    "plt.bar(np.arange(len(real_instance[3::2])), real_instance[3::2], align='center', alpha=0.5)\n",
    "\n",
    "plt.xticks(np.arange(len(real_instance[3::2])), [x[:-5] for x in real_instance.index[3::2]], rotation=45)\n",
    "\n",
    "plt.ylabel('Costo')\n",
    "plt.xlabel('Algoritmos')\n",
    "plt.legend(['Vendedores: ' + str(real_instance[1]) + ' - Depositos: ' + str(real_instance[2])])\n",
    "plt.show()"
   ]
  },
  {
   "attachments": {},
   "cell_type": "markdown",
   "metadata": {},
   "source": [
    "* TIEMPO"
   ]
  },
  {
   "cell_type": "code",
   "execution_count": null,
   "metadata": {},
   "outputs": [],
   "source": [
    "# Grafico de barras de los tiempos de los algoritmos\n",
    "plt.bar(np.arange(len(real_instance[4::2])), real_instance[4::2], align='center', alpha=0.5)\n",
    "\n",
    "plt.xticks(np.arange(len(real_instance[4::2])), [x[:-5] for x in real_instance.index[4::2]], rotation=45)\n",
    "\n",
    "plt.ylabel('Tiempo (ms)')\n",
    "plt.xlabel('Algoritmos')\n",
    "plt.legend(['Vendedores: ' + str(real_instance[1]) + ' - Depositos: ' + str(real_instance[2])])\n",
    "plt.show()"
   ]
  }
 ],
 "metadata": {
  "kernelspec": {
   "display_name": "metodos",
   "language": "python",
   "name": "python3"
  },
  "language_info": {
   "codemirror_mode": {
    "name": "ipython",
    "version": 3
   },
   "file_extension": ".py",
   "mimetype": "text/x-python",
   "name": "python",
   "nbconvert_exporter": "python",
   "pygments_lexer": "ipython3",
   "version": "3.10.9"
  },
  "orig_nbformat": 4
 },
 "nbformat": 4,
 "nbformat_minor": 2
}
